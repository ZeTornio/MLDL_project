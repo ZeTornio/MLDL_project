{
 "cells": [
  {
   "cell_type": "code",
   "execution_count": null,
   "metadata": {},
   "outputs": [],
   "source": [
    "import utils.ss_transforms as sstr\n",
    "from steps import Args,createServerStep1,createServerStep2,createServerStep3,createServerStep4,createServerStep5clustering\n",
    "from utils.FDA import extractClientsStyles,applyFDAstyles"
   ]
  },
  {
   "cell_type": "code",
   "execution_count": null,
   "metadata": {},
   "outputs": [],
   "source": [
    "#STEP 1 \n",
    "arg=Args(num_rounds=8,num_epochs=25,bs=4,testEachRounds=1)\n",
    "trainTr=sstr.Compose([sstr.RandomCrop(scale=(0.5,1),ratio=(0.9,1.1)),sstr.Resize((540,960)),sstr.ToTensor()])\n",
    "testTr=sstr.Compose([sstr.Resize((540,960)),sstr.ToTensor()])\n",
    "server=createServerStep1(args=arg,train_transform=trainTr,test_transform=testTr)\n",
    "server.train()"
   ]
  },
  {
   "cell_type": "code",
   "execution_count": null,
   "metadata": {},
   "outputs": [],
   "source": [
    "#STEP 2\n",
    "arg=Args(clients_per_round=2,num_epochs=3,num_rounds=1200,bs=4,testEachRounds=1)\n",
    "trainTr=sstr.Compose([sstr.RandomCrop(scale=(0.5,1),ratio=(0.9,1.1)),sstr.Resize((540,960)),sstr.ToTensor()])\n",
    "testTr=sstr.Compose([sstr.Resize((540,960)),sstr.ToTensor()])\n",
    "server=createServerStep2(args=arg,train_transform=trainTr,test_transform=testTr)\n",
    "server.train()"
   ]
  },
  {
   "cell_type": "code",
   "execution_count": null,
   "metadata": {},
   "outputs": [],
   "source": [
    "#STEP 3 (with FDA)\n",
    "arg=Args(num_epochs=10,num_rounds=20,bs=4,testEachRounds=1,saveEachRounds=1)\n",
    "styles=extractClientsStyles(5)\n",
    "trainTr=sstr.Compose([sstr.Resize((540,960)),sstr.ToTensor(),applyFDAstyles(styles,n=5)])\n",
    "testTr=sstr.Compose([sstr.Resize((540,960)),sstr.ToTensor()])\n",
    "server=createServerStep3(args=arg,train_transform=trainTr,test_transform=testTr)\n",
    "server.train()"
   ]
  },
  {
   "cell_type": "code",
   "execution_count": null,
   "metadata": {},
   "outputs": [],
   "source": [
    "#STEP 4\n",
    "arg=Args(clients_per_round=2,num_epochs=1,num_rounds=120,bs=4,testEachRounds=1,teacher_update=None,unsupervised=True)\n",
    "styles=extractClientsStyles(5)\n",
    "trainTr=sstr.Compose([sstr.Resize((540,960)),sstr.ToTensor()])\n",
    "testTr=sstr.Compose([sstr.Resize((540,960)),sstr.ToTensor()])\n",
    "server=createServerStep4(args=arg,train_transform=trainTr,test_transform=testTr)\n",
    "server.loadModel('BestModelStep3.pt')\n",
    "server.eval_train()\n",
    "server.test()\n",
    "server.train()"
   ]
  },
  {
   "cell_type": "code",
   "execution_count": null,
   "metadata": {},
   "outputs": [],
   "source": [
    "#STEP 5 CLUSTERING\n",
    "arg=Args(clients_per_round=2,num_epochs=3,num_rounds=1200,bs=4,testEachRounds=1,clustering=True,cluster_param='FDA',num_clusters=[2,3,4,5,6,7,8])\n",
    "trainTr=sstr.Compose([sstr.RandomCrop(scale=(0.5,1),ratio=(0.9,1.1)),sstr.Resize((540,960)),sstr.ToTensor()])\n",
    "testTr=sstr.Compose([sstr.Resize((540,960)),sstr.ToTensor()])\n",
    "server=createServerStep5clustering(args=arg,train_transform=trainTr,test_transform=testTr)\n",
    "server.train()"
   ]
  },
  {
   "cell_type": "code",
   "execution_count": null,
   "metadata": {},
   "outputs": [],
   "source": [
    "#Losses\n",
    "arg=Args(num_epochs=25,rounds=8,reduction='meanClasses')\n",
    "arg=Args(num_epochs=25,rounds=8,reduction='frequencyClass',reductionParam=0.1)\n",
    "arg=Args(num_epochs=25,rounds=8,reduction='weightedMean',reductionParam=[1,1,1,1,1,2,2,2,1,1,1,2,2,1,1,1])"
   ]
  }
 ],
 "metadata": {
  "language_info": {
   "name": "python"
  },
  "orig_nbformat": 4
 },
 "nbformat": 4,
 "nbformat_minor": 2
}
